{
 "cells": [
  {
   "cell_type": "markdown",
   "metadata": {},
   "source": [
    "## Mongodb Connection"
   ]
  },
  {
   "cell_type": "code",
   "execution_count": 57,
   "metadata": {},
   "outputs": [],
   "source": [
    "from pymongo import MongoClient\n",
    "from bson.json_util import dumps\n",
    "from bson.objectid import ObjectId\n",
    "\n",
    "client = MongoClient('localhost', 27017)"
   ]
  },
  {
   "cell_type": "code",
   "execution_count": 58,
   "metadata": {},
   "outputs": [],
   "source": [
    "db = client['sakila']\n",
    "collCustomers = db['customers']\n",
    "collFilms = db['films']"
   ]
  },
  {
   "cell_type": "code",
   "execution_count": 22,
   "metadata": {},
   "outputs": [
    {
     "name": "stdout",
     "output_type": "stream",
     "text": [
      "ACE GOLDFINGER\n",
      "ACADEMY DINOSAUR\n"
     ]
    }
   ],
   "source": [
    "curDocs = collFilms.find({\"Title\": {\"$regex\": \"^AC.*\"}})\n",
    "for docs in curDocs:\n",
    "    print(docs[\"Title\"])"
   ]
  },
  {
   "cell_type": "code",
   "execution_count": 64,
   "metadata": {},
   "outputs": [
    {
     "name": "stdout",
     "output_type": "stream",
     "text": [
      "['_id', 'Actors', 'Category', 'Description', 'Length', 'Rating', 'Rental Duration', 'Replacement Cost', 'Special Features', 'Title']\n"
     ]
    }
   ],
   "source": [
    "curDocs = collFilms.find_one()\n",
    "keys = []\n",
    "for key in curDocs:\n",
    "    keys.append(key)\n",
    "print (keys)"
   ]
  },
  {
   "cell_type": "code",
   "execution_count": 61,
   "metadata": {},
   "outputs": [
    {
     "name": "stdout",
     "output_type": "stream",
     "text": [
      "{'_id': 2, 'Actors': [{'First name': 'BOB', 'Last name': 'FAWCETT', 'actorId': 19}, {'First name': 'MINNIE', 'Last name': 'ZELLWEGER', 'actorId': 85}, {'First name': 'SEAN', 'Last name': 'GUINESS', 'actorId': 90}, {'First name': 'CHRIS', 'Last name': 'DEPP', 'actorId': 160}], 'Category': 'Horror', 'Description': 'A Astounding Epistle of a Database Administrator And a Explorer who must Find a Car in Ancient China', 'Length': '48', 'Rating': 'G', 'Rental Duration': '3', 'Replacement Cost': '12.99', 'Special Features': 'Trailers,Deleted Scenes', 'Title': 'ACE GOLDFINGER'}\n"
     ]
    }
   ],
   "source": [
    "print (curDocs)"
   ]
  },
  {
   "cell_type": "code",
   "execution_count": 67,
   "metadata": {},
   "outputs": [
    {
     "ename": "ValueError",
     "evalue": "invalid literal for int() with base 10: 'a'",
     "output_type": "error",
     "traceback": [
      "\u001b[0;31m---------------------------------------------------------------------------\u001b[0m",
      "\u001b[0;31mValueError\u001b[0m                                Traceback (most recent call last)",
      "\u001b[0;32m<ipython-input-67-8a74feb3b127>\u001b[0m in \u001b[0;36m<module>\u001b[0;34m\u001b[0m\n\u001b[1;32m      1\u001b[0m \u001b[0mstr1\u001b[0m \u001b[0;34m=\u001b[0m \u001b[0;34m'a'\u001b[0m\u001b[0;34m\u001b[0m\u001b[0;34m\u001b[0m\u001b[0m\n\u001b[0;32m----> 2\u001b[0;31m \u001b[0mint\u001b[0m\u001b[0;34m(\u001b[0m\u001b[0mstr1\u001b[0m\u001b[0;34m)\u001b[0m\u001b[0;34m\u001b[0m\u001b[0;34m\u001b[0m\u001b[0m\n\u001b[0m",
      "\u001b[0;31mValueError\u001b[0m: invalid literal for int() with base 10: 'a'"
     ]
    }
   ],
   "source": [
    "str1 = 'a'\n",
    "int(str1)"
   ]
  },
  {
   "cell_type": "code",
   "execution_count": null,
   "metadata": {},
   "outputs": [],
   "source": []
  }
 ],
 "metadata": {
  "kernelspec": {
   "display_name": "Python 3",
   "language": "python",
   "name": "python3"
  },
  "language_info": {
   "codemirror_mode": {
    "name": "ipython",
    "version": 3
   },
   "file_extension": ".py",
   "mimetype": "text/x-python",
   "name": "python",
   "nbconvert_exporter": "python",
   "pygments_lexer": "ipython3",
   "version": "3.7.3"
  }
 },
 "nbformat": 4,
 "nbformat_minor": 2
}
