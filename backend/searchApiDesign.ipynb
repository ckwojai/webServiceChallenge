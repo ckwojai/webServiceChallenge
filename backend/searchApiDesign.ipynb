{
 "cells": [
  {
   "cell_type": "markdown",
   "metadata": {},
   "source": [
    "## Mongodb Connection"
   ]
  },
  {
   "cell_type": "code",
   "execution_count": 25,
   "metadata": {},
   "outputs": [],
   "source": [
    "from pymongo import MongoClient\n",
    "from bson.json_util import dumps\n",
    "from bson.objectid import ObjectId\n",
    "\n",
    "client = MongoClient('localhost', 27017)"
   ]
  },
  {
   "cell_type": "code",
   "execution_count": 26,
   "metadata": {},
   "outputs": [],
   "source": [
    "db = client['sakila']\n",
    "collCustomers = db['customers']\n",
    "collFilms = db['films']"
   ]
  },
  {
   "cell_type": "code",
   "execution_count": 22,
   "metadata": {},
   "outputs": [
    {
     "name": "stdout",
     "output_type": "stream",
     "text": [
      "ACE GOLDFINGER\n",
      "ACADEMY DINOSAUR\n"
     ]
    }
   ],
   "source": [
    "curDocs = collFilms.find({\"Title\": {\"$regex\": \"^AC.*\"}})\n",
    "for docs in curDocs:\n",
    "    print(docs[\"Title\"])"
   ]
  },
  {
   "cell_type": "code",
   "execution_count": 46,
   "metadata": {},
   "outputs": [
    {
     "name": "stdout",
     "output_type": "stream",
     "text": [
      "{'_id': 2, 'Actors': [{'First name': 'BOB', 'Last name': 'FAWCETT', 'actorId': 19}, {'First name': 'MINNIE', 'Last name': 'ZELLWEGER', 'actorId': 85}, {'First name': 'SEAN', 'Last name': 'GUINESS', 'actorId': 90}, {'First name': 'CHRIS', 'Last name': 'DEPP', 'actorId': 160}], 'Category': 'Horror', 'Description': 'A Astounding Epistle of a Database Administrator And a Explorer who must Find a Car in Ancient China', 'Length': '48', 'Rating': 'G', 'Rental Duration': '3', 'Replacement Cost': '12.99', 'Special Features': 'Trailers,Deleted Scenes', 'Title': 'ACE GOLDFINGER'}\n"
     ]
    }
   ],
   "source": [
    "str1 = \"2\"\n",
    "curDocs = collFilms.find({[\"First Name\", \"Last Name\"]: \"$\" })\n"
   ]
  },
  {
   "cell_type": "code",
   "execution_count": 43,
   "metadata": {},
   "outputs": [
    {
     "name": "stdout",
     "output_type": "stream",
     "text": [
      "_id\n",
      "Actors\n",
      "Category\n",
      "Description\n",
      "Length\n",
      "Rating\n",
      "Rental Duration\n",
      "Replacement Cost\n",
      "Special Features\n",
      "Title\n"
     ]
    }
   ],
   "source": [
    "for docs in curDocs:\n",
    "    print(docs)"
   ]
  },
  {
   "cell_type": "code",
   "execution_count": null,
   "metadata": {},
   "outputs": [],
   "source": []
  }
 ],
 "metadata": {
  "kernelspec": {
   "display_name": "Python 3",
   "language": "python",
   "name": "python3"
  },
  "language_info": {
   "codemirror_mode": {
    "name": "ipython",
    "version": 3
   },
   "file_extension": ".py",
   "mimetype": "text/x-python",
   "name": "python",
   "nbconvert_exporter": "python",
   "pygments_lexer": "ipython3",
   "version": "3.7.3"
  }
 },
 "nbformat": 4,
 "nbformat_minor": 2
}
